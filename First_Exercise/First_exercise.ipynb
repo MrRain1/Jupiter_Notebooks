{
 "cells": [
  {
   "cell_type": "code",
   "execution_count": 30,
   "metadata": {},
   "outputs": [
    {
     "name": "stdout",
     "output_type": "stream",
     "text": [
      "[1, 2, 3]\n",
      "[1, 2, 3, 19]\n",
      "[1, 2, 3, 4, 5, 6, 7, 8, 9, 10]\n",
      "[18, 2, -2, -7, -14, 2, 7, 5, 16, -12, -14, 5, -19]\n",
      "[18, 16, 7, 5, 5, 2, 2, -2, -7, -12, -14, -14, -19]\n"
     ]
    }
   ],
   "source": [
    "import random\n",
    "import math\n",
    "l1 = [1,2,3]\n",
    "print(l1)\n",
    "l1.append(19)\n",
    "print(l1)\n",
    "l2 = list(range(1, 11, 1))\n",
    "print(l2)\n",
    "\n",
    "l3=[]\n",
    "for i in range(0, random.randint(6,15)):\n",
    "    n=random.gauss(0,1)\n",
    "    l3.append(math.floor(n*10))\n",
    "print(l3)\n",
    "\n",
    "l3.sort(reverse=True)\n",
    "print(l3)"
   ]
  }
 ],
 "metadata": {
  "kernelspec": {
   "display_name": "Python 3.10.5 64-bit",
   "language": "python",
   "name": "python3"
  },
  "language_info": {
   "codemirror_mode": {
    "name": "ipython",
    "version": 3
   },
   "file_extension": ".py",
   "mimetype": "text/x-python",
   "name": "python",
   "nbconvert_exporter": "python",
   "pygments_lexer": "ipython3",
   "version": "3.10.5"
  },
  "orig_nbformat": 4,
  "vscode": {
   "interpreter": {
    "hash": "e7370f93d1d0cde622a1f8e1c04877d8463912d04d973331ad4851f04de6915a"
   }
  }
 },
 "nbformat": 4,
 "nbformat_minor": 2
}
